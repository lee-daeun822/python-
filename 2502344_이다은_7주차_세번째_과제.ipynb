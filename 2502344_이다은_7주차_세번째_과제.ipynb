{
  "nbformat": 4,
  "nbformat_minor": 0,
  "metadata": {
    "colab": {
      "provenance": []
    },
    "kernelspec": {
      "name": "python3",
      "display_name": "Python 3"
    },
    "language_info": {
      "name": "python"
    }
  },
  "cells": [
    {
      "cell_type": "code",
      "execution_count": 1,
      "metadata": {
        "colab": {
          "base_uri": "https://localhost:8080/"
        },
        "id": "1Sj8EruUhXHa",
        "outputId": "867212ab-cea2-4608-976e-a067f3539cf2"
      },
      "outputs": [
        {
          "output_type": "stream",
          "name": "stdout",
          "text": [
            "숫자 5개 입력: 1 2 3 4 5\n",
            "문자를 하나 입력: a\n",
            "[1, 2, 3, 4, 5, 'a']\n"
          ]
        }
      ],
      "source": [
        "#과제 11\n",
        "\n",
        "a = list(map(int, input(\"숫자 5개 입력: \").split()))\n",
        "b = (input(\"문자를 하나 입력: \"))\n",
        "a.append(b)\n",
        "print(a)"
      ]
    },
    {
      "cell_type": "code",
      "source": [
        "#과제 12\n",
        "\n",
        "a = list(map(int, input(\"숫자 5개 입력: \").split()))\n",
        "del a[-2:]\n",
        "print(a)"
      ],
      "metadata": {
        "colab": {
          "base_uri": "https://localhost:8080/"
        },
        "id": "-Hm5rRJ9kb7g",
        "outputId": "dc4642ef-f92c-44fb-c2be-128372bc76eb"
      },
      "execution_count": 4,
      "outputs": [
        {
          "output_type": "stream",
          "name": "stdout",
          "text": [
            "숫자 5개 입력: 1 2 3 4 5\n",
            "[1, 2, 3]\n"
          ]
        }
      ]
    },
    {
      "cell_type": "code",
      "source": [
        "#과제13\n",
        "\n",
        "a = list(map(int, input(\"숫자 5개 입력: \").split()))\n",
        "\n",
        "for index, value in enumerate(a):\n",
        "    print(index + 101, value)"
      ],
      "metadata": {
        "colab": {
          "base_uri": "https://localhost:8080/"
        },
        "id": "Hr7xAs8qmA0k",
        "outputId": "f6762d72-304d-444d-d581-aad012929bd6"
      },
      "execution_count": 6,
      "outputs": [
        {
          "output_type": "stream",
          "name": "stdout",
          "text": [
            "숫자 5개 입력: 1 2 3 4 5\n",
            "101 1\n",
            "102 2\n",
            "103 3\n",
            "104 4\n",
            "105 5\n"
          ]
        }
      ]
    },
    {
      "cell_type": "code",
      "source": [
        "#과제14\n",
        "\n",
        "a = [10, 20, 30, 40, 30, 20, 10]\n",
        "result=a.count(20)\n",
        "\n",
        "print(result)"
      ],
      "metadata": {
        "colab": {
          "base_uri": "https://localhost:8080/"
        },
        "id": "bf1Xj2rcmWXm",
        "outputId": "2165fe9e-9744-4caa-d356-65fce401fae0"
      },
      "execution_count": 15,
      "outputs": [
        {
          "output_type": "stream",
          "name": "stdout",
          "text": [
            "2\n"
          ]
        }
      ]
    },
    {
      "cell_type": "code",
      "source": [
        "#과제15\n",
        "\n",
        "a = list(map(int, input(\"숫자 10개 입력: \").split()))\n",
        "a.sort()\n",
        "\n",
        "print(\"최저값:\", a[0], \"최고값:\", a[-1])"
      ],
      "metadata": {
        "colab": {
          "base_uri": "https://localhost:8080/"
        },
        "id": "RSJtqqvsnirC",
        "outputId": "6b4de909-11b4-4fe6-c447-32a96d8cd873"
      },
      "execution_count": 9,
      "outputs": [
        {
          "output_type": "stream",
          "name": "stdout",
          "text": [
            "숫자 10개 입력: 1 2 3 4 5 6 7 8 9 10\n",
            "최저값: 1 최고값: 10\n"
          ]
        }
      ]
    },
    {
      "cell_type": "code",
      "source": [
        "#과제16\n",
        "\n",
        "a = list(map(int, input(\"숫자 10개 입력: \").split()))\n",
        "\n",
        "min_value = min(a)\n",
        "max_value = max(a)\n",
        "\n",
        "del a[a.index(min(a))]\n",
        "del a[a.index(max(a))]\n",
        "\n",
        "result = sum(a)\n",
        "print(result)"
      ],
      "metadata": {
        "colab": {
          "base_uri": "https://localhost:8080/"
        },
        "id": "dCYV0uQCoBpz",
        "outputId": "cd1355cc-c7fc-4b10-960f-7c4d52b396a0"
      },
      "execution_count": 10,
      "outputs": [
        {
          "output_type": "stream",
          "name": "stdout",
          "text": [
            "숫자 10개 입력: 1 2 3 4 5 6 7 8 9 10\n",
            "44\n"
          ]
        }
      ]
    },
    {
      "cell_type": "code",
      "source": [
        "#과제17\n",
        "\n",
        "a = [10, 20, 30, 40, 30, 20, 10]\n",
        "\n",
        "while 20 in a:\n",
        "  a.remove(20)\n",
        "print(a)"
      ],
      "metadata": {
        "colab": {
          "base_uri": "https://localhost:8080/"
        },
        "id": "rHHVTBX9psZZ",
        "outputId": "b8263afd-df1a-4331-a4e0-8e1ccfac5c3b"
      },
      "execution_count": 18,
      "outputs": [
        {
          "output_type": "stream",
          "name": "stdout",
          "text": [
            "[10, 30, 40, 30, 10]\n"
          ]
        }
      ]
    },
    {
      "cell_type": "code",
      "source": [
        "#과제18\n",
        "a = [i for i in range(1, 6)]\n",
        "print(a)"
      ],
      "metadata": {
        "colab": {
          "base_uri": "https://localhost:8080/"
        },
        "id": "XE63o3ZnrpWZ",
        "outputId": "7f5534f7-d98b-4c58-865e-577c980baf10"
      },
      "execution_count": 21,
      "outputs": [
        {
          "output_type": "stream",
          "name": "stdout",
          "text": [
            "[1, 2, 3, 4, 5]\n"
          ]
        }
      ]
    },
    {
      "cell_type": "code",
      "source": [
        "#과제19\n",
        "a = [i for i in range(20) if i % 2 == 1]\n",
        "print(a)"
      ],
      "metadata": {
        "colab": {
          "base_uri": "https://localhost:8080/"
        },
        "id": "SfZX-mzbsHea",
        "outputId": "80e0c3d0-f42a-4ed6-ef3f-b084567532ae"
      },
      "execution_count": 22,
      "outputs": [
        {
          "output_type": "stream",
          "name": "stdout",
          "text": [
            "[1, 3, 5, 7, 9, 11, 13, 15, 17, 19]\n"
          ]
        }
      ]
    },
    {
      "cell_type": "code",
      "source": [
        "#과제20\n",
        "\n",
        "a = int(input(\"1~20 사이의 정수를 입력하세요: \"))\n",
        "b = int(input(\"10~30 사이의 정수를 입력하세요: \"))\n",
        "\n",
        "c = [2 ** i for i in range(a, b + 1)]\n",
        "\n",
        "del c[1]\n",
        "del c[-2]\n",
        "\n",
        "print(c)"
      ],
      "metadata": {
        "colab": {
          "base_uri": "https://localhost:8080/"
        },
        "id": "TNmvg1zlscQu",
        "outputId": "572c7d8c-9c97-4cda-b6fa-a28483b1a72c"
      },
      "execution_count": 27,
      "outputs": [
        {
          "output_type": "stream",
          "name": "stdout",
          "text": [
            "1~20 사이의 정수를 입력하세요: 1\n",
            "10~30 사이의 정수를 입력하세요: 10\n",
            "[2, 8, 16, 32, 64, 128, 256, 1024]\n"
          ]
        }
      ]
    },
    {
      "cell_type": "code",
      "source": [
        "#과제 21\n",
        "\n",
        "sting_var ='Hello, world!'\n",
        "print(sting_var.replace('Hello', 'Hi'))"
      ],
      "metadata": {
        "colab": {
          "base_uri": "https://localhost:8080/"
        },
        "id": "rmfZ92Iyui8Y",
        "outputId": "5feab942-7e7b-46f7-c00f-8bf4bf47d011"
      },
      "execution_count": 29,
      "outputs": [
        {
          "output_type": "stream",
          "name": "stdout",
          "text": [
            "Hi, world!\n"
          ]
        }
      ]
    },
    {
      "cell_type": "code",
      "source": [
        "#과제 22\n",
        "\n",
        "a = input(\"문자 4개: \")\n",
        "a = \"/\".join(a)\n",
        "print(a)"
      ],
      "metadata": {
        "colab": {
          "base_uri": "https://localhost:8080/"
        },
        "id": "rHNmZZoLzDhe",
        "outputId": "ac95def7-4469-4297-85a3-15ac74a0be13"
      },
      "execution_count": 31,
      "outputs": [
        {
          "output_type": "stream",
          "name": "stdout",
          "text": [
            "문자 4개: abcd\n",
            "a/b/c/d\n"
          ]
        }
      ]
    },
    {
      "cell_type": "code",
      "source": [
        "#과제 23\n",
        "\n",
        "name = input(\"성을 영어로 입력: \")\n",
        "new_name = name.lower()\n",
        "right_name = new_name.rjust(10)\n",
        "print(right_name)"
      ],
      "metadata": {
        "colab": {
          "base_uri": "https://localhost:8080/"
        },
        "id": "hIntlb4jzXZu",
        "outputId": "3db3d345-558c-4c42-bcb8-4f3658777891"
      },
      "execution_count": 33,
      "outputs": [
        {
          "output_type": "stream",
          "name": "stdout",
          "text": [
            "성을 영어로 입력: Lee\n",
            "       lee\n"
          ]
        }
      ]
    },
    {
      "cell_type": "code",
      "source": [
        "#과제 24\n",
        "\n",
        "a = input(\"물품 가격 입력: \").split(';')\n",
        "\n",
        "a = list(map(int, a))\n",
        "a.sort(reverse=True)\n",
        "\n",
        "for b in a:\n",
        "    print(str(b).rjust(9))"
      ],
      "metadata": {
        "colab": {
          "base_uri": "https://localhost:8080/"
        },
        "id": "NwgV72OQ0eP1",
        "outputId": "d1c07540-4243-43bd-d9e7-92e341080a23"
      },
      "execution_count": 44,
      "outputs": [
        {
          "output_type": "stream",
          "name": "stdout",
          "text": [
            "물품 가격 입력: 5000;300;92100\n",
            "    92100\n",
            "     5000\n",
            "      300\n"
          ]
        }
      ]
    }
  ]
}